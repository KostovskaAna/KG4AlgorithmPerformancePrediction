{
 "cells": [
  {
   "cell_type": "code",
   "execution_count": 44,
   "metadata": {},
   "outputs": [
    {
     "name": "stdout",
     "output_type": "stream",
     "text": [
      "0.787\n",
      "0.699\n",
      "0.667\n",
      "0.811\n",
      "0.944\n",
      "0.913\n",
      "0.883\n",
      "0.743\n",
      "0.968\n",
      "0.954\n",
      "0.933\n",
      "0.813\n"
     ]
    }
   ],
   "source": [
    "import sys\n",
    "import numpy as np\n",
    "import pandas as pd \n",
    "from ampligraph.latent_features import ComplEx\n",
    "from ampligraph.discovery import query_topn\n",
    "from sklearn.metrics import f1_score\n",
    "from sklearn.metrics import accuracy_score\n",
    "from ampligraph.latent_features import save_model\n",
    "from statistics import mode\n",
    "from imblearn.metrics import geometric_mean_score\n",
    "\n",
    "\n",
    "def get_most_frequent_link(X):\n",
    "    links = [t for t in X]\n",
    "    return mode(links)\n",
    "\n",
    "def get_score_dummy(X, predicted_class):\n",
    "    y_true = [t[1]for t in X]\n",
    "    y_pred = [predicted_class] * len(y_true)\n",
    "    # y_true_bool = [True if item == 'solved' else False for item in y_true]\n",
    "    # y_pred_bool = [True if item == 'solved' else False for item in y_pred]\n",
    "    return geometric_mean_score(y_true, y_pred, labels=['solved', 'not-solved']), accuracy_score(y_true, y_pred), f1_score(y_true, y_pred, labels=['solved', 'not-solved'], pos_label=predicted_class)         \n",
    "    \n",
    "     \n",
    "\n",
    "def HPO_KG_embedding(dim, budget, fixed_target, algo):\n",
    "    X_train = np.load(f'../DATA/KG/{algo}/KG_dim_{dim}_budget_{budget}_target_{fixed_target:.5f}_train.npy')\n",
    "    X_val = np.load(f'../DATA/KG/{algo}/KG_dim_{dim}_budget_{budget}_target_{fixed_target:.5f}_val.npy')\n",
    "    X_test = np.load(f'../DATA/KG/{algo}/KG_dim_{dim}_budget_{budget}_target_{fixed_target:.5f}_test.npy')\n",
    "\n",
    "    \n",
    "    majority_link = get_most_frequent_link(np.append(X_train, X_val))\n",
    "\n",
    "    dummy_gmean, dummy_acc, dummy_f1 = get_score_dummy(X_test, majority_link)\n",
    "    print(f'{float(dummy_f1):.3f}')\n",
    "    \n",
    "\n",
    "if __name__ == \"__main__\":\n",
    "\n",
    "    for dim in [30]:\n",
    "        for fixed_target in [10, 1, 0.1]:\n",
    "            for budget in [2000, 5000, 10000, 50000]:\n",
    "                for algo in ['modCMA']:\n",
    "                    best_model = HPO_KG_embedding(dim, budget, fixed_target, algo)"
   ]
  },
  {
   "cell_type": "code",
   "execution_count": 36,
   "metadata": {},
   "outputs": [
    {
     "name": "stdout",
     "output_type": "stream",
     "text": [
      "0.868 (0.005)\n",
      "0.767 (0.010)\n",
      "0.669 (0.010)\n",
      "0.628 (0.012)\n"
     ]
    }
   ],
   "source": [
    "import sys\n",
    "import numpy as np\n",
    "import pandas as pd \n",
    "from ampligraph.latent_features import ComplEx\n",
    "from ampligraph.discovery import query_topn\n",
    "from sklearn.metrics import f1_score\n",
    "from sklearn.metrics import accuracy_score\n",
    "from ampligraph.latent_features import save_model\n",
    "from statistics import mode\n",
    "from imblearn.metrics import geometric_mean_score\n",
    "from scipy import stats\n",
    "from sklearn.metrics import precision_score\n",
    "\n",
    "\n",
    "def get_most_frequent_link(X):\n",
    "    cnt_solved = 0\n",
    "    cnt_not_solved = 0\n",
    "    for l in X:\n",
    "        if l == 'solved':\n",
    "            cnt_solved +=1\n",
    "        elif l == 'not-solved':\n",
    "            cnt_not_solved += 1\n",
    "\n",
    "    if cnt_solved >= cnt_not_solved:\n",
    "        return 'solved'\n",
    "    else:\n",
    "        return 'not-solved'\n",
    "\n",
    "def get_score_dummy(X, predicted_class):\n",
    "    y_true = [t[1]for t in X]\n",
    "    y_pred = [predicted_class] * len(y_true)\n",
    "    # y_true_bool = [True if item == 'solved' else False for item in y_true]\n",
    "    # y_pred_bool = [True if item == 'solved' else False for item in y_pred]\n",
    "    return geometric_mean_score(y_true, y_pred, labels=['solved', 'not-solved']), accuracy_score(y_true, y_pred),f1_score(y_true, y_pred, labels=['solved', 'not-solved'], pos_label=predicted_class)         \n",
    "    \n",
    "     \n",
    "\n",
    "def HPO_KG_embedding_random(dim, budget, fixed_target, algo, mode):\n",
    "    scores = []\n",
    "    for rand in range(1, 6):\n",
    "        X_train = np.load(f'../DATA/KG_random_subset/{algo}/{mode}/rand_{rand}_KG_dim_{dim}_budget_{budget}_target_{fixed_target:.5f}_train.npy')\n",
    "        X_train_links = np.load(f'../DATA/KG_random_subset/{algo}/{mode}/rand_{rand}_KG_dim_{dim}_budget_{budget}_target_{fixed_target:.5f}_train_links.npy')\n",
    "        X_val = np.load(f'../DATA/KG_random_subset/{algo}/{mode}/rand_{rand}_KG_dim_{dim}_budget_{budget}_target_{fixed_target:.5f}_val.npy')\n",
    "        X_test = np.load(f'../DATA/KG_random_subset/{algo}/{mode}/rand_{rand}_KG_dim_{dim}_budget_{budget}_target_{fixed_target:.5f}_test.npy')\n",
    "\n",
    "        links_train = [t[1] for t in X_train_links]\n",
    "        links_val = [t[1] for t in X_val]\n",
    "        majority_link = get_most_frequent_link(np.append(links_train, links_val))\n",
    "\n",
    "        dummy_gmean, dummy_acc, dummy_f1 = get_score_dummy(X_test, majority_link)\n",
    "        scores.append(dummy_acc)\n",
    "    print(f'{float(np.mean(scores)):.3f} ({float(np.std(scores)):.3f})')\n",
    "\n",
    "if __name__ == \"__main__\":\n",
    "    mode = 'problem'\n",
    "    for budget in [2000, 5000, 10000, 50000]:\n",
    "        for algo in ['modDE']:\n",
    "            best_model = HPO_KG_embedding_random(5, budget, 0.1, algo, 'problem')"
   ]
  }
 ],
 "metadata": {
  "kernelspec": {
   "display_name": "Python 3.7.13 ('ampligraph')",
   "language": "python",
   "name": "python3"
  },
  "language_info": {
   "codemirror_mode": {
    "name": "ipython",
    "version": 3
   },
   "file_extension": ".py",
   "mimetype": "text/x-python",
   "name": "python",
   "nbconvert_exporter": "python",
   "pygments_lexer": "ipython3",
   "version": "3.7.13"
  },
  "orig_nbformat": 4,
  "vscode": {
   "interpreter": {
    "hash": "57a4bf9b71c8e81dd0d84a354b467139dac349de803c45104f2f9630359e6221"
   }
  }
 },
 "nbformat": 4,
 "nbformat_minor": 2
}
