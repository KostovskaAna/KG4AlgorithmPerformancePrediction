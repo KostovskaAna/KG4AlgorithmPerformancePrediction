{
 "cells": [
  {
   "cell_type": "code",
   "execution_count": 8,
   "metadata": {},
   "outputs": [
    {
     "name": "stdout",
     "output_type": "stream",
     "text": [
      "0.701 (0.021)\n",
      "0.701 (0.023)\n",
      "0.707 (0.027)\n",
      "0.687 (0.026)\n",
      "0.888 (0.011)\n",
      "0.905 (0.009)\n",
      "0.896 (0.011)\n",
      "0.874 (0.018)\n"
     ]
    }
   ],
   "source": [
    "import sys\n",
    "import numpy as np\n",
    "import pandas as pd \n",
    "from ampligraph.latent_features import ComplEx\n",
    "from ampligraph.discovery import query_topn\n",
    "from sklearn.metrics import roc_auc_score\n",
    "from sklearn.metrics import accuracy_score\n",
    "from sklearn.metrics import f1_score\n",
    "from ampligraph.latent_features import save_model\n",
    "from statistics import mode\n",
    "              \n",
    "\n",
    "def roc_score_random(dim, budget, fixed_target, algo, removal_mode):\n",
    "    arr = []\n",
    "    arr_acc = []\n",
    "    for rand_n in range(1, 6):\n",
    "        X_train = np.load(f'../DATA/KG_random_subset/{algo}/{removal_mode}/rand_{rand_n}_KG_dim_{dim}_budget_{budget}_target_{fixed_target:.5f}_train.npy')\n",
    "        X_val = np.load(f'../DATA/KG_random_subset/{algo}/{removal_mode}/rand_{rand_n}_KG_dim_{dim}_budget_{budget}_target_{fixed_target:.5f}_val.npy')\n",
    "        X_test = np.load(f'../DATA/KG_random_subset/{algo}/{removal_mode}/rand_{rand_n}_KG_dim_{dim}_budget_{budget}_target_{fixed_target:.5f}_test.npy')\n",
    "\n",
    "        y_pred = np.load(f'../Results/HPO_random_subset/{algo}/{removal_mode}/rand_{rand_n}_best_test_preds_ComplEx_dim_{dim}_budget_{budget}_target_{fixed_target:.5f}.npy')\n",
    "        y_true = [t[1]for t in X_test]\n",
    "        y_true_bool = [1 if item == 'solved' else 0 for item in y_true]\n",
    "        y_pred_bool = [1 if item == 'solved' else 0 for item in y_pred]\n",
    "        \n",
    "        arr.append(roc_auc_score(y_true_bool, y_pred_bool))\n",
    "\n",
    "    print(f'{float(np.mean(arr)):.3f} ({float(np.std(arr)):.3f})')\n",
    "\n",
    "roc_score_random(5, 2000, 0.1, 'modCMA', 'problem')\n",
    "roc_score_random(5, 5000, 0.1, 'modCMA', 'problem')\n",
    "roc_score_random(5, 10000, 0.1, 'modCMA', 'problem')\n",
    "roc_score_random(5, 50000, 0.1, 'modCMA', 'problem')\n",
    "roc_score_random(5, 2000, 0.1, 'modCMA', 'config')\n",
    "roc_score_random(5, 5000, 0.1, 'modCMA', 'config')\n",
    "roc_score_random(5, 10000, 0.1, 'modCMA', 'config')\n",
    "roc_score_random(5, 50000, 0.1, 'modCMA', 'config')"
   ]
  },
  {
   "cell_type": "code",
   "execution_count": null,
   "metadata": {},
   "outputs": [],
   "source": [
    "import sys\n",
    "import numpy as np\n",
    "import pandas as pd \n",
    "from ampligraph.latent_features import ComplEx\n",
    "from ampligraph.discovery import query_topn\n",
    "from sklearn.metrics import roc_auc_score\n",
    "from sklearn.metrics import accuracy_score\n",
    "from sklearn.metrics import f1_score\n",
    "from ampligraph.latent_features import save_model\n",
    "from statistics import mode\n",
    "              \n",
    "\n",
    "def roc_score(dim, budget, fixed_target, algo):\n",
    "    arr = []\n",
    "    arr_acc = []\n",
    "    X_train = np.load(f'../DATA/KG/{algo}/KG_dim_{dim}_budget_{budget}_target_{fixed_target:.5f}_train.npy')\n",
    "    X_val = np.load(f'../DATA/KG/{algo}/KG_dim_{dim}_budget_{budget}_target_{fixed_target:.5f}_val.npy')\n",
    "    X_test = np.load(f'../DATA/KG/{algo}/KG_dim_{dim}_budget_{budget}_target_{fixed_target:.5f}_test.npy')\n",
    "\n",
    "    y_pred = np.load(f'../Results/results_unfinished/HPO/{algo}/best_test_preds_ComplEx_dim_{dim}_budget_{budget}_target_{fixed_target:.5f}.npy')\n",
    "    y_true = [t[1]for t in X_test]\n",
    "    y_true_bool = [1 if item == 'solved' else 0 for item in y_true]\n",
    "    y_pred_bool = [1 if item == 'solved' else 0 for item in y_pred]\n",
    "\n",
    "    print(f'{float(roc_auc_score(y_true_bool, y_pred_bool)):.3f}')\n",
    "\n",
    "roc_score(30, 2000, 1, 'modDE')\n",
    "roc_score(30, 5000, 1, 'modDE')\n",
    "roc_score(30, 10000, 1, 'modDE')\n",
    "roc_score(30, 50000, 1, 'modDE')\n",
    "roc_score(30, 2000, 0.1, 'modDE')\n",
    "roc_score(30, 5000, 0.1, 'modDE')\n",
    "roc_score(30, 10000, 0.1, 'modDE')\n",
    "roc_score(30, 50000, 0.1, 'modDE')\n",
    "roc_score(30, 2000, 0.001, 'modDE')\n",
    "roc_score(30, 5000, 0.001, 'modDE')\n",
    "roc_score(30, 10000, 0.001, 'modDE')\n",
    "# roc_score(5, 50000, 0.001, 'modDE')\n"
   ]
  }
 ],
 "metadata": {
  "kernelspec": {
   "display_name": "Python 3.7.13 ('ampligraph')",
   "language": "python",
   "name": "python3"
  },
  "language_info": {
   "codemirror_mode": {
    "name": "ipython",
    "version": 3
   },
   "file_extension": ".py",
   "mimetype": "text/x-python",
   "name": "python",
   "nbconvert_exporter": "python",
   "pygments_lexer": "ipython3",
   "version": "3.7.13"
  },
  "orig_nbformat": 4,
  "vscode": {
   "interpreter": {
    "hash": "57a4bf9b71c8e81dd0d84a354b467139dac349de803c45104f2f9630359e6221"
   }
  }
 },
 "nbformat": 4,
 "nbformat_minor": 2
}
