{
 "cells": [
  {
   "cell_type": "code",
   "execution_count": 14,
   "metadata": {},
   "outputs": [],
   "source": [
    "import pandas as pd\n",
    "import numpy as np\n",
    "def create_classification_data(algo, dim, budgets, targets):\n",
    "    for fixed_target in targets:\n",
    "        for budget in budgets:\n",
    "            path = 'embeddings/'+algo\n",
    "            path_clas = 'classification_data/'+algo\n",
    "            path_KG = 'KG/'+algo\n",
    "            df_embeddings_problems = pd.read_csv(f\"../Results/{path}/embeddings_problems_ComplEx_dim_{dim}_budget_{budget}_target_{fixed_target:.5f}.csv\")\n",
    "            df_embeddings_confs = pd.read_csv(f\"../Results/{path}/embeddings_confs_ComplEx_dim_{dim}_budget_{budget}_target_{fixed_target:.5f}.csv\")\n",
    "            df_embeddings_merged = df_embeddings_confs.merge(df_embeddings_problems, how='cross')\n",
    "            df_embeddings_merged['conf_f_i'] = df_embeddings_merged.apply(lambda row: row.conf+\"_\"+row.problem, axis=1)\n",
    "            df_embeddings_merged = df_embeddings_merged.set_index('conf_f_i')    \n",
    "            df_embeddings_merged.drop(['conf', 'problem'], axis=1, inplace=True)\n",
    "            \n",
    "            KG_train_links = np.load(f\"../DATA/{path_KG}/KG_dim_{dim}_budget_{budget}_target_{fixed_target:.5f}_train_links.npy\")\n",
    "            KG_val_links = np.load(f\"../DATA/{path_KG}/KG_dim_{dim}_budget_{budget}_target_{fixed_target:.5f}_val.npy\")\n",
    "            KG_train_links = np.concatenate((KG_train_links, KG_val_links))\n",
    "            sub_train = [triplet[0]+\"_\"+triplet[2] for triplet in KG_train_links]\n",
    "            solved_train = [triplet[1] for triplet in KG_train_links]\n",
    "            df_embeddings_merged_train = df_embeddings_merged.loc[sub_train]\n",
    "            df_embeddings_merged_train['solved'] = solved_train\n",
    "            df_embeddings_merged_train.to_csv(f'../Results/{path_clas}/ComplEx_dim_{dim}_budget_{budget}_target_{fixed_target:.5f}_train.csv')\n",
    "\n",
    "            KG_test_links = np.load(f\"../DATA/{path_KG}/KG_dim_{dim}_budget_{budget}_target_{fixed_target:.5f}_test.npy\")\n",
    "            sub_test = [triplet[0]+\"_\"+triplet[2] for triplet in KG_test_links]\n",
    "            solved_test = [triplet[1] for triplet in KG_test_links]\n",
    "            df_embeddings_merged_test = df_embeddings_merged.loc[sub_test]\n",
    "            df_embeddings_merged_test['solved'] = solved_test\n",
    "            df_embeddings_merged_test.to_csv(f'../Results/{path_clas}/ComplEx_dim_{dim}_budget_{budget}_target_{fixed_target:.5f}_test.csv')"
   ]
  },
  {
   "cell_type": "code",
   "execution_count": 18,
   "metadata": {},
   "outputs": [],
   "source": [
    "create_classification_data('modDE', 30, [50000], [0.1])"
   ]
  }
 ],
 "metadata": {
  "kernelspec": {
   "display_name": "Python 3.8.3 64-bit",
   "language": "python",
   "name": "python3"
  },
  "language_info": {
   "codemirror_mode": {
    "name": "ipython",
    "version": 3
   },
   "file_extension": ".py",
   "mimetype": "text/x-python",
   "name": "python",
   "nbconvert_exporter": "python",
   "pygments_lexer": "ipython3",
   "version": "3.8.3"
  },
  "orig_nbformat": 4,
  "vscode": {
   "interpreter": {
    "hash": "949777d72b0d2535278d3dc13498b2535136f6dfe0678499012e853ee9abcab1"
   }
  }
 },
 "nbformat": 4,
 "nbformat_minor": 2
}
