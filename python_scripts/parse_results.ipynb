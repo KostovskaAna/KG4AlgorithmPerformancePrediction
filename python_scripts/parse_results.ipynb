{
 "cells": [
  {
   "cell_type": "code",
   "execution_count": 11,
   "metadata": {},
   "outputs": [
    {
     "name": "stdout",
     "output_type": "stream",
     "text": [
      "0.719 (0.013)\n",
      "0.728 (0.023)\n",
      "0.722 (0.016)\n",
      "0.722 (0.021)\n"
     ]
    }
   ],
   "source": [
    "import numpy as np\n",
    "def parse_random_subset_results_HPO(algo, mode, dim, budgets, target, rands=[1,2,3,4,5]):\n",
    "\n",
    "    data = []\n",
    "    for budget in budgets:\n",
    "        arr_KG = []\n",
    "        for rand in rands:\n",
    "            with open(f\"../Results/results-unfinished/HPO_random_subspace/{algo}/{mode}/rand_{rand}_trace_ComplEx_dim_{dim}_budget_{budget}_target_{target:.5f}.txt\", \"r\") as file:\n",
    "                KG_f1 = file.readlines()[-1].split(\",\")[0].split(\"=\")[1]\n",
    "                \n",
    "            arr_KG.append(float(KG_f1))\n",
    "        # print(budget)\n",
    "        # print(arr)\n",
    "        \n",
    "        print(f'{float(np.mean(arr_KG)):.3f} ({float(np.std(arr_KG)):.3f})')\n",
    "        # data.append(arr)\n",
    "\n",
    "parse_random_subset_results_HPO('modCMA', 'problem', 5, [2000, 5000, 10000, 50000], 0.1)"
   ]
  },
  {
   "cell_type": "code",
   "execution_count": 8,
   "metadata": {},
   "outputs": [
    {
     "name": "stdout",
     "output_type": "stream",
     "text": [
      "0.964\n",
      "0.961\n",
      "0.960\n",
      "0.946\n",
      "0.962\n",
      "0.977\n",
      "0.965\n",
      "0.942\n",
      "0.989\n",
      "0.984\n",
      "0.981\n",
      "0.961\n"
     ]
    }
   ],
   "source": [
    "import numpy as np\n",
    "def parse_results_HPO(algo,  dim, budgets, target):\n",
    "\n",
    "    data = []\n",
    "    for budget in budgets:\n",
    "        with open(f\"../Results/results-unfinished/HPO/{algo}/trace_ComplEx_dim_{dim}_budget_{budget}_target_{target:.5f}.txt\", \"r\") as file:\n",
    "            KG_f1 = file.readlines()[-1].split(\",\")[0].split(\"=\")[1]\n",
    "        \n",
    "        print(f'{float(KG_f1):.3f}')\n",
    "        # data.append(arr)\n",
    "parse_results_HPO('modDE', 30, [2000, 5000, 10000, 50000], 10)\n",
    "parse_results_HPO('modDE', 30, [2000, 5000, 10000, 50000], 1)\n",
    "parse_results_HPO('modDE', 30, [2000, 5000, 10000, 50000], 0.1)"
   ]
  }
 ],
 "metadata": {
  "kernelspec": {
   "display_name": "Python 3.8.3 64-bit",
   "language": "python",
   "name": "python3"
  },
  "language_info": {
   "codemirror_mode": {
    "name": "ipython",
    "version": 3
   },
   "file_extension": ".py",
   "mimetype": "text/x-python",
   "name": "python",
   "nbconvert_exporter": "python",
   "pygments_lexer": "ipython3",
   "version": "3.8.3"
  },
  "orig_nbformat": 4,
  "vscode": {
   "interpreter": {
    "hash": "949777d72b0d2535278d3dc13498b2535136f6dfe0678499012e853ee9abcab1"
   }
  }
 },
 "nbformat": 4,
 "nbformat_minor": 2
}
